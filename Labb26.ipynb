{
 "cells": [
  {
   "cell_type": "code",
   "execution_count": 1,
   "metadata": {},
   "outputs": [
    {
     "name": "stdout",
     "output_type": "stream",
     "text": [
      "We are now in our elif statement!\n",
      "This means that we exceeded our goals this quarter\n",
      "We will increase our vacation days by two\n",
      "vacation_days =  27\n"
     ]
    }
   ],
   "source": [
    "vacation_days = 25\n",
    "goals_met = False\n",
    "goals_exceeded = True\n",
    "if goals_met:\n",
    "      \n",
    "    vacation_days += 70\n",
    "    print(\"vacation_days = \", vacation_days)\n",
    "    print(\"we incremented vacation days\")\n",
    "elif goals_exceeded:\n",
    "    print(\"We are now in our elif statement!\")\n",
    "    print(\"This means that we exceeded our goals this quarter\")\n",
    "    print(\"We will increase our vacation days by two\")\n",
    "    vacation_days += 2\n",
    "    print(\"vacation_days = \", vacation_days)\n",
    "else:\n",
    "    print(\"vacation_days = \", vacation_days)\n",
    "    print(\"we did NOT increment vacation days\")\n",
    "    "
   ]
  },
  {
   "cell_type": "code",
   "execution_count": null,
   "metadata": {},
   "outputs": [],
   "source": []
  }
 ],
 "metadata": {
  "kernelspec": {
   "display_name": "Python 3",
   "language": "python",
   "name": "python3"
  },
  "language_info": {
   "codemirror_mode": {
    "name": "ipython",
    "version": 3
   },
   "file_extension": ".py",
   "mimetype": "text/x-python",
   "name": "python",
   "nbconvert_exporter": "python",
   "pygments_lexer": "ipython3",
   "version": "3.7.4"
  }
 },
 "nbformat": 4,
 "nbformat_minor": 2
}
